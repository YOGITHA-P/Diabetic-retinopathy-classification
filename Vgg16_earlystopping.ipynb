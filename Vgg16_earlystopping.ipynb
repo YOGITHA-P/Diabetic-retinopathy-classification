{
  "cells": [
    {
      "cell_type": "markdown",
      "source": [
        "VGG16\n",
        "\n",
        "VGG16 is a CNN architecture renowned for its simplicity and effectiveness. It comprises 16 layers, including convolutional and pooling layers, culminating in three fully connected layers. Despite its depth, VGG16's architecture is straightforward, making it a popular choice for transfer learning and feature extraction in various computer vision applications."
      ],
      "metadata": {
        "id": "yLFPE7AFMkXU"
      }
    },
    {
      "cell_type": "code",
      "execution_count": null,
      "metadata": {
        "colab": {
          "base_uri": "https://localhost:8080/"
        },
        "id": "5AYSS7piQ48e",
        "outputId": "8a7e7672-7281-43f9-8590-e0a61c322459"
      },
      "outputs": [
        {
          "name": "stdout",
          "output_type": "stream",
          "text": [
            "Defaulting to user installation because normal site-packages is not writeable\n",
            "Collecting split-folders\n",
            "  Downloading split_folders-0.5.1-py3-none-any.whl (8.4 kB)\n",
            "Installing collected packages: split-folders\n",
            "Successfully installed split-folders-0.5.1\n"
          ]
        },
        {
          "name": "stderr",
          "output_type": "stream",
          "text": [
            "  WARNING: The scripts split-folders.exe, split_folders.exe and splitfolders.exe are installed in 'C:\\Users\\Student\\AppData\\Roaming\\Python\\Python311\\Scripts' which is not on PATH.\n",
            "  Consider adding this directory to PATH or, if you prefer to suppress this warning, use --no-warn-script-location.\n"
          ]
        }
      ],
      "source": [
        "!pip install split-folders"
      ]
    },
    {
      "cell_type": "code",
      "execution_count": null,
      "metadata": {
        "id": "uElCz-4zSXEI",
        "outputId": "0b3722e3-9191-4e4c-f790-43f78b38955c"
      },
      "outputs": [
        {
          "name": "stdout",
          "output_type": "stream",
          "text": [
            "WARNING:tensorflow:From C:\\Users\\Student\\AppData\\Roaming\\Python\\Python311\\site-packages\\keras\\src\\losses.py:2976: The name tf.losses.sparse_softmax_cross_entropy is deprecated. Please use tf.compat.v1.losses.sparse_softmax_cross_entropy instead.\n",
            "\n"
          ]
        }
      ],
      "source": [
        "import splitfolders\n",
        "\n",
        "from tensorflow.keras.applications import VGG16\n",
        "from tensorflow.keras.applications.vgg16 import preprocess_input\n",
        "from tensorflow.keras.models import Model, Sequential\n",
        "from tensorflow.keras.preprocessing.image import ImageDataGenerator\n",
        "from tensorflow.keras.optimizers import Adam\n",
        "from tensorflow.keras.layers import Dense, Conv2D, MaxPool2D , Flatten\n",
        "from tensorflow.keras.losses import categorical_crossentropy\n",
        "from tensorflow.keras.callbacks import ModelCheckpoint, EarlyStopping\n",
        "from tensorflow.keras import metrics\n",
        "\n",
        "from sklearn.utils import class_weight\n",
        "from collections import Counter\n",
        "from timeit import default_timer as timer\n",
        "import matplotlib.pyplot as plt\n",
        "\n",
        "import os\n",
        "from os import listdir\n",
        "from os.path import isfile, join"
      ]
    },
    {
      "cell_type": "code",
      "execution_count": null,
      "metadata": {
        "id": "T-4wCK1qSd89"
      },
      "outputs": [],
      "source": [
        "os.makedirs('output')\n",
        "os.makedirs('output/train')\n",
        "os.makedirs('output/val')"
      ]
    },
    {
      "cell_type": "code",
      "execution_count": null,
      "metadata": {
        "colab": {
          "base_uri": "https://localhost:8080/"
        },
        "id": "PFxpi8Q4T02G",
        "outputId": "fcbe13c0-bc04-4cf7-952f-3598f03760ae"
      },
      "outputs": [
        {
          "name": "stderr",
          "output_type": "stream",
          "text": [
            "Copying files: 2750 files [00:02, 1117.39 files/s]\n"
          ]
        }
      ],
      "source": [
        "img_loc = \"C:/Users/Student/Documents/archive (1)\"\n",
        "\n",
        "splitfolders.ratio(img_loc, output='output', seed=1, ratio=(0.8, 0.2))"
      ]
    },
    {
      "cell_type": "code",
      "execution_count": null,
      "metadata": {
        "colab": {
          "base_uri": "https://localhost:8080/"
        },
        "id": "ZqII-URgT-g7",
        "outputId": "0c664b82-9170-47ec-a765-7da0ed359f74"
      },
      "outputs": [
        {
          "name": "stderr",
          "output_type": "stream",
          "text": [
            "'ls' is not recognized as an internal or external command,\n",
            "operable program or batch file.\n"
          ]
        }
      ],
      "source": [
        "!ls output"
      ]
    },
    {
      "cell_type": "code",
      "execution_count": null,
      "metadata": {
        "id": "kppSv0mdUCJA"
      },
      "outputs": [],
      "source": [
        "train_loc = 'output/train/'\n",
        "test_loc = 'output/val/'"
      ]
    },
    {
      "cell_type": "code",
      "execution_count": null,
      "metadata": {
        "colab": {
          "base_uri": "https://localhost:8080/"
        },
        "id": "ikgT24TMUFfJ",
        "outputId": "7452e062-290f-44dc-d738-123da9de058f"
      },
      "outputs": [
        {
          "name": "stdout",
          "output_type": "stream",
          "text": [
            "Found 2200 images belonging to 5 classes.\n",
            "Found 550 images belonging to 5 classes.\n"
          ]
        }
      ],
      "source": [
        "trdata = ImageDataGenerator()\n",
        "traindata = trdata.flow_from_directory(directory=train_loc, target_size=(224,224))\n",
        "tsdata = ImageDataGenerator()\n",
        "testdata = tsdata.flow_from_directory(directory=test_loc, target_size=(224,224))"
      ]
    },
    {
      "cell_type": "code",
      "execution_count": null,
      "metadata": {
        "colab": {
          "base_uri": "https://localhost:8080/"
        },
        "id": "somcaNrgUJNq",
        "outputId": "bd84379f-17e9-4616-e5d6-85fb8ea1809b"
      },
      "outputs": [
        {
          "name": "stdout",
          "output_type": "stream",
          "text": [
            "WARNING:tensorflow:From C:\\Users\\Student\\AppData\\Roaming\\Python\\Python311\\site-packages\\keras\\src\\backend.py:1398: The name tf.executing_eagerly_outside_functions is deprecated. Please use tf.compat.v1.executing_eagerly_outside_functions instead.\n",
            "\n"
          ]
        },
        {
          "name": "stderr",
          "output_type": "stream",
          "text": [
            "WARNING:tensorflow:From C:\\Users\\Student\\AppData\\Roaming\\Python\\Python311\\site-packages\\keras\\src\\backend.py:1398: The name tf.executing_eagerly_outside_functions is deprecated. Please use tf.compat.v1.executing_eagerly_outside_functions instead.\n",
            "\n"
          ]
        },
        {
          "name": "stdout",
          "output_type": "stream",
          "text": [
            "WARNING:tensorflow:From C:\\Users\\Student\\AppData\\Roaming\\Python\\Python311\\site-packages\\keras\\src\\layers\\pooling\\max_pooling2d.py:161: The name tf.nn.max_pool is deprecated. Please use tf.nn.max_pool2d instead.\n",
            "\n"
          ]
        },
        {
          "name": "stderr",
          "output_type": "stream",
          "text": [
            "WARNING:tensorflow:From C:\\Users\\Student\\AppData\\Roaming\\Python\\Python311\\site-packages\\keras\\src\\layers\\pooling\\max_pooling2d.py:161: The name tf.nn.max_pool is deprecated. Please use tf.nn.max_pool2d instead.\n",
            "\n"
          ]
        },
        {
          "name": "stdout",
          "output_type": "stream",
          "text": [
            "Downloading data from https://storage.googleapis.com/tensorflow/keras-applications/vgg16/vgg16_weights_tf_dim_ordering_tf_kernels.h5\n",
            "553467096/553467096 [==============================] - 177s 0us/step\n",
            "Model: \"vgg16\"\n",
            "_________________________________________________________________\n",
            " Layer (type)                Output Shape              Param #   \n",
            "=================================================================\n",
            " input_1 (InputLayer)        [(None, 224, 224, 3)]     0         \n",
            "                                                                 \n",
            " block1_conv1 (Conv2D)       (None, 224, 224, 64)      1792      \n",
            "                                                                 \n",
            " block1_conv2 (Conv2D)       (None, 224, 224, 64)      36928     \n",
            "                                                                 \n",
            " block1_pool (MaxPooling2D)  (None, 112, 112, 64)      0         \n",
            "                                                                 \n",
            " block2_conv1 (Conv2D)       (None, 112, 112, 128)     73856     \n",
            "                                                                 \n",
            " block2_conv2 (Conv2D)       (None, 112, 112, 128)     147584    \n",
            "                                                                 \n",
            " block2_pool (MaxPooling2D)  (None, 56, 56, 128)       0         \n",
            "                                                                 \n",
            " block3_conv1 (Conv2D)       (None, 56, 56, 256)       295168    \n",
            "                                                                 \n",
            " block3_conv2 (Conv2D)       (None, 56, 56, 256)       590080    \n",
            "                                                                 \n",
            " block3_conv3 (Conv2D)       (None, 56, 56, 256)       590080    \n",
            "                                                                 \n",
            " block3_pool (MaxPooling2D)  (None, 28, 28, 256)       0         \n",
            "                                                                 \n",
            " block4_conv1 (Conv2D)       (None, 28, 28, 512)       1180160   \n",
            "                                                                 \n",
            " block4_conv2 (Conv2D)       (None, 28, 28, 512)       2359808   \n",
            "                                                                 \n",
            " block4_conv3 (Conv2D)       (None, 28, 28, 512)       2359808   \n",
            "                                                                 \n",
            " block4_pool (MaxPooling2D)  (None, 14, 14, 512)       0         \n",
            "                                                                 \n",
            " block5_conv1 (Conv2D)       (None, 14, 14, 512)       2359808   \n",
            "                                                                 \n",
            " block5_conv2 (Conv2D)       (None, 14, 14, 512)       2359808   \n",
            "                                                                 \n",
            " block5_conv3 (Conv2D)       (None, 14, 14, 512)       2359808   \n",
            "                                                                 \n",
            " block5_pool (MaxPooling2D)  (None, 7, 7, 512)         0         \n",
            "                                                                 \n",
            " flatten (Flatten)           (None, 25088)             0         \n",
            "                                                                 \n",
            " fc1 (Dense)                 (None, 4096)              102764544 \n",
            "                                                                 \n",
            " fc2 (Dense)                 (None, 4096)              16781312  \n",
            "                                                                 \n",
            " predictions (Dense)         (None, 1000)              4097000   \n",
            "                                                                 \n",
            "=================================================================\n",
            "Total params: 138357544 (527.79 MB)\n",
            "Trainable params: 138357544 (527.79 MB)\n",
            "Non-trainable params: 0 (0.00 Byte)\n",
            "_________________________________________________________________\n"
          ]
        }
      ],
      "source": [
        "vgg16 = VGG16(weights='imagenet')\n",
        "vgg16.summary()\n",
        "\n",
        "x  = vgg16.get_layer('fc2').output\n",
        "prediction = Dense(5, activation='softmax', name='predictions')(x)\n",
        "\n",
        "model = Model(inputs=vgg16.input, outputs=prediction)"
      ]
    },
    {
      "cell_type": "code",
      "execution_count": null,
      "metadata": {
        "colab": {
          "base_uri": "https://localhost:8080/"
        },
        "id": "wpVB7ajZUPRR",
        "outputId": "5fa61274-82dc-4edf-a021-3b3417e5d883"
      },
      "outputs": [
        {
          "name": "stdout",
          "output_type": "stream",
          "text": [
            "Layer 'block3_conv1' is trainable\n",
            "Layer 'block3_conv2' is trainable\n",
            "Layer 'block3_conv3' is trainable\n",
            "Layer 'block3_pool' is trainable\n",
            "Layer 'block4_conv1' is trainable\n",
            "Layer 'block4_conv2' is trainable\n",
            "Layer 'block4_conv3' is trainable\n",
            "Layer 'block4_pool' is trainable\n",
            "Layer 'block5_conv1' is trainable\n",
            "Layer 'block5_conv2' is trainable\n",
            "Layer 'block5_conv3' is trainable\n",
            "Layer 'block5_pool' is trainable\n",
            "Layer 'flatten' is trainable\n",
            "Layer 'fc1' is trainable\n",
            "Layer 'fc2' is trainable\n",
            "Layer 'predictions' is trainable\n"
          ]
        }
      ],
      "source": [
        "for layer in model.layers:\n",
        "    layer.trainable = False\n",
        "\n",
        "for layer in model.layers[-16:]:\n",
        "    layer.trainable = True\n",
        "    print(\"Layer '%s' is trainable\" % layer.name)"
      ]
    },
    {
      "cell_type": "code",
      "execution_count": null,
      "metadata": {
        "colab": {
          "base_uri": "https://localhost:8080/"
        },
        "id": "k-smBe7hUULl",
        "outputId": "81e86028-be99-40b6-cb76-01c00ad7aa3d"
      },
      "outputs": [
        {
          "name": "stderr",
          "output_type": "stream",
          "text": [
            "WARNING:absl:`lr` is deprecated in Keras optimizer, please use `learning_rate` or use the legacy optimizer, e.g.,tf.keras.optimizers.legacy.Adam.\n"
          ]
        },
        {
          "name": "stdout",
          "output_type": "stream",
          "text": [
            "Model: \"model\"\n",
            "_________________________________________________________________\n",
            " Layer (type)                Output Shape              Param #   \n",
            "=================================================================\n",
            " input_1 (InputLayer)        [(None, 224, 224, 3)]     0         \n",
            "                                                                 \n",
            " block1_conv1 (Conv2D)       (None, 224, 224, 64)      1792      \n",
            "                                                                 \n",
            " block1_conv2 (Conv2D)       (None, 224, 224, 64)      36928     \n",
            "                                                                 \n",
            " block1_pool (MaxPooling2D)  (None, 112, 112, 64)      0         \n",
            "                                                                 \n",
            " block2_conv1 (Conv2D)       (None, 112, 112, 128)     73856     \n",
            "                                                                 \n",
            " block2_conv2 (Conv2D)       (None, 112, 112, 128)     147584    \n",
            "                                                                 \n",
            " block2_pool (MaxPooling2D)  (None, 56, 56, 128)       0         \n",
            "                                                                 \n",
            " block3_conv1 (Conv2D)       (None, 56, 56, 256)       295168    \n",
            "                                                                 \n",
            " block3_conv2 (Conv2D)       (None, 56, 56, 256)       590080    \n",
            "                                                                 \n",
            " block3_conv3 (Conv2D)       (None, 56, 56, 256)       590080    \n",
            "                                                                 \n",
            " block3_pool (MaxPooling2D)  (None, 28, 28, 256)       0         \n",
            "                                                                 \n",
            " block4_conv1 (Conv2D)       (None, 28, 28, 512)       1180160   \n",
            "                                                                 \n",
            " block4_conv2 (Conv2D)       (None, 28, 28, 512)       2359808   \n",
            "                                                                 \n",
            " block4_conv3 (Conv2D)       (None, 28, 28, 512)       2359808   \n",
            "                                                                 \n",
            " block4_pool (MaxPooling2D)  (None, 14, 14, 512)       0         \n",
            "                                                                 \n",
            " block5_conv1 (Conv2D)       (None, 14, 14, 512)       2359808   \n",
            "                                                                 \n",
            " block5_conv2 (Conv2D)       (None, 14, 14, 512)       2359808   \n",
            "                                                                 \n",
            " block5_conv3 (Conv2D)       (None, 14, 14, 512)       2359808   \n",
            "                                                                 \n",
            " block5_pool (MaxPooling2D)  (None, 7, 7, 512)         0         \n",
            "                                                                 \n",
            " flatten (Flatten)           (None, 25088)             0         \n",
            "                                                                 \n",
            " fc1 (Dense)                 (None, 4096)              102764544 \n",
            "                                                                 \n",
            " fc2 (Dense)                 (None, 4096)              16781312  \n",
            "                                                                 \n",
            " predictions (Dense)         (None, 5)                 20485     \n",
            "                                                                 \n",
            "=================================================================\n",
            "Total params: 134281029 (512.24 MB)\n",
            "Trainable params: 134020869 (511.25 MB)\n",
            "Non-trainable params: 260160 (1016.25 KB)\n",
            "_________________________________________________________________\n"
          ]
        }
      ],
      "source": [
        "opt = Adam(lr=0.000001)\n",
        "model.compile(optimizer=opt, loss=categorical_crossentropy,\n",
        "              metrics=['accuracy'])\n",
        "model.summary()"
      ]
    },
    {
      "cell_type": "code",
      "execution_count": null,
      "metadata": {
        "id": "_TKlSiX5UYfv"
      },
      "outputs": [],
      "source": [
        "checkpoint = ModelCheckpoint(\"vgg16_diabetes.h5\", monitor='val_accuracy', verbose=1,\n",
        "                             save_best_only=True, save_weights_only=False, mode='auto')\n",
        "early = EarlyStopping(monitor='val_accuracy', min_delta=0, patience=20, verbose=1, mode='auto')"
      ]
    },
    {
      "cell_type": "code",
      "execution_count": null,
      "metadata": {
        "colab": {
          "base_uri": "https://localhost:8080/"
        },
        "id": "-PB3bP0LUjKH",
        "outputId": "7d139fc9-05b6-455f-971c-863f27960b44"
      },
      "outputs": [
        {
          "data": {
            "text/plain": [
              "{0: 1.0,\n",
              " 1: 2.7027027027027026,\n",
              " 2: 1.1111111111111112,\n",
              " 3: 3.4482758620689653,\n",
              " 4: 5.2631578947368425}"
            ]
          },
          "execution_count": 16,
          "metadata": {},
          "output_type": "execute_result"
        }
      ],
      "source": [
        "counter = Counter(traindata.classes)\n",
        "max_val = float(max(counter.values()))\n",
        "class_weights = {class_id : max_val/num_images for class_id, num_images in counter.items()}\n",
        "class_weights"
      ]
    },
    {
      "cell_type": "code",
      "execution_count": null,
      "metadata": {
        "colab": {
          "base_uri": "https://localhost:8080/"
        },
        "id": "Nvw_ZXJkUm_k",
        "outputId": "f04df8ae-d333-497a-a905-bf66055a2100"
      },
      "outputs": [
        {
          "name": "stdout",
          "output_type": "stream",
          "text": [
            "Epoch 1/75\n",
            "WARNING:tensorflow:From C:\\Users\\Student\\AppData\\Roaming\\Python\\Python311\\site-packages\\keras\\src\\utils\\tf_utils.py:492: The name tf.ragged.RaggedTensorValue is deprecated. Please use tf.compat.v1.ragged.RaggedTensorValue instead.\n",
            "\n"
          ]
        },
        {
          "name": "stderr",
          "output_type": "stream",
          "text": [
            "WARNING:tensorflow:From C:\\Users\\Student\\AppData\\Roaming\\Python\\Python311\\site-packages\\keras\\src\\utils\\tf_utils.py:492: The name tf.ragged.RaggedTensorValue is deprecated. Please use tf.compat.v1.ragged.RaggedTensorValue instead.\n",
            "\n"
          ]
        },
        {
          "name": "stdout",
          "output_type": "stream",
          "text": [
            "WARNING:tensorflow:From C:\\Users\\Student\\AppData\\Roaming\\Python\\Python311\\site-packages\\keras\\src\\engine\\base_layer_utils.py:384: The name tf.executing_eagerly_outside_functions is deprecated. Please use tf.compat.v1.executing_eagerly_outside_functions instead.\n",
            "\n"
          ]
        },
        {
          "name": "stderr",
          "output_type": "stream",
          "text": [
            "WARNING:tensorflow:From C:\\Users\\Student\\AppData\\Roaming\\Python\\Python311\\site-packages\\keras\\src\\engine\\base_layer_utils.py:384: The name tf.executing_eagerly_outside_functions is deprecated. Please use tf.compat.v1.executing_eagerly_outside_functions instead.\n",
            "\n"
          ]
        },
        {
          "name": "stdout",
          "output_type": "stream",
          "text": [
            "68/68 [==============================] - ETA: 0s - loss: 66.1281 - accuracy: 0.2288\n",
            "Epoch 1: val_accuracy improved from -inf to 0.36581, saving model to vgg16_diabetes.h5\n"
          ]
        },
        {
          "name": "stderr",
          "output_type": "stream",
          "text": [
            "C:\\Users\\Student\\AppData\\Roaming\\Python\\Python311\\site-packages\\keras\\src\\engine\\training.py:3103: UserWarning: You are saving your model as an HDF5 file via `model.save()`. This file format is considered legacy. We recommend using instead the native Keras format, e.g. `model.save('my_model.keras')`.\n",
            "  saving_api.save_model(\n"
          ]
        },
        {
          "name": "stdout",
          "output_type": "stream",
          "text": [
            "68/68 [==============================] - 443s 6s/step - loss: 66.1281 - accuracy: 0.2288 - val_loss: 6.7517 - val_accuracy: 0.3658\n",
            "Epoch 2/75\n",
            "68/68 [==============================] - ETA: 0s - loss: 5.5815 - accuracy: 0.2449\n",
            "Epoch 2: val_accuracy improved from 0.36581 to 0.43382, saving model to vgg16_diabetes.h5\n",
            "68/68 [==============================] - 434s 6s/step - loss: 5.5815 - accuracy: 0.2449 - val_loss: 1.3691 - val_accuracy: 0.4338\n",
            "Epoch 3/75\n",
            "68/68 [==============================] - ETA: 0s - loss: 3.0053 - accuracy: 0.3672\n",
            "Epoch 3: val_accuracy did not improve from 0.43382\n",
            "68/68 [==============================] - 427s 6s/step - loss: 3.0053 - accuracy: 0.3672 - val_loss: 1.5523 - val_accuracy: 0.0956\n",
            "Epoch 4/75\n",
            "68/68 [==============================] - ETA: 0s - loss: 3.7493 - accuracy: 0.3639\n",
            "Epoch 4: val_accuracy did not improve from 0.43382\n",
            "68/68 [==============================] - 426s 6s/step - loss: 3.7493 - accuracy: 0.3639 - val_loss: 1.4128 - val_accuracy: 0.3529\n",
            "Epoch 5/75\n",
            "68/68 [==============================] - ETA: 0s - loss: 2.6260 - accuracy: 0.4253\n",
            "Epoch 5: val_accuracy did not improve from 0.43382\n",
            "68/68 [==============================] - 427s 6s/step - loss: 2.6260 - accuracy: 0.4253 - val_loss: 1.2542 - val_accuracy: 0.4301\n",
            "Epoch 6/75\n",
            "68/68 [==============================] - ETA: 0s - loss: 2.9318 - accuracy: 0.4188\n",
            "Epoch 6: val_accuracy did not improve from 0.43382\n",
            "68/68 [==============================] - 425s 6s/step - loss: 2.9318 - accuracy: 0.4188 - val_loss: 1.6054 - val_accuracy: 0.2243\n",
            "Epoch 7/75\n",
            "68/68 [==============================] - ETA: 0s - loss: 3.0260 - accuracy: 0.3224\n",
            "Epoch 7: val_accuracy improved from 0.43382 to 0.50919, saving model to vgg16_diabetes.h5\n",
            "68/68 [==============================] - 435s 6s/step - loss: 3.0260 - accuracy: 0.3224 - val_loss: 1.2181 - val_accuracy: 0.5092\n",
            "Epoch 8/75\n",
            "68/68 [==============================] - ETA: 0s - loss: 2.5304 - accuracy: 0.4497\n",
            "Epoch 8: val_accuracy did not improve from 0.50919\n",
            "68/68 [==============================] - 427s 6s/step - loss: 2.5304 - accuracy: 0.4497 - val_loss: 1.2979 - val_accuracy: 0.4154\n",
            "Epoch 9/75\n",
            "68/68 [==============================] - ETA: 0s - loss: 2.4888 - accuracy: 0.4599\n",
            "Epoch 9: val_accuracy did not improve from 0.50919\n",
            "68/68 [==============================] - 427s 6s/step - loss: 2.4888 - accuracy: 0.4599 - val_loss: 1.2668 - val_accuracy: 0.3511\n",
            "Epoch 10/75\n",
            "68/68 [==============================] - ETA: 0s - loss: 2.4776 - accuracy: 0.4442\n",
            "Epoch 10: val_accuracy did not improve from 0.50919\n",
            "68/68 [==============================] - 425s 6s/step - loss: 2.4776 - accuracy: 0.4442 - val_loss: 1.2197 - val_accuracy: 0.4338\n",
            "Epoch 11/75\n",
            "68/68 [==============================] - ETA: 0s - loss: 2.4302 - accuracy: 0.4649\n",
            "Epoch 11: val_accuracy did not improve from 0.50919\n",
            "68/68 [==============================] - 427s 6s/step - loss: 2.4302 - accuracy: 0.4649 - val_loss: 1.2055 - val_accuracy: 0.4522\n",
            "Epoch 12/75\n",
            "68/68 [==============================] - ETA: 0s - loss: 2.4266 - accuracy: 0.4908\n",
            "Epoch 12: val_accuracy did not improve from 0.50919\n",
            "68/68 [==============================] - 425s 6s/step - loss: 2.4266 - accuracy: 0.4908 - val_loss: 1.2257 - val_accuracy: 0.4522\n",
            "Epoch 13/75\n",
            "68/68 [==============================] - ETA: 0s - loss: 2.3787 - accuracy: 0.4899\n",
            "Epoch 13: val_accuracy did not improve from 0.50919\n",
            "68/68 [==============================] - 429s 6s/step - loss: 2.3787 - accuracy: 0.4899 - val_loss: 1.1829 - val_accuracy: 0.3768\n",
            "Epoch 14/75\n",
            "68/68 [==============================] - ETA: 0s - loss: 2.3785 - accuracy: 0.4732\n",
            "Epoch 14: val_accuracy did not improve from 0.50919\n",
            "68/68 [==============================] - 425s 6s/step - loss: 2.3785 - accuracy: 0.4732 - val_loss: 1.1072 - val_accuracy: 0.4982\n",
            "Epoch 15/75\n",
            "68/68 [==============================] - ETA: 0s - loss: 2.3498 - accuracy: 0.4991\n",
            "Epoch 15: val_accuracy did not improve from 0.50919\n",
            "68/68 [==============================] - 425s 6s/step - loss: 2.3498 - accuracy: 0.4991 - val_loss: 1.2089 - val_accuracy: 0.3971\n",
            "Epoch 16/75\n",
            "68/68 [==============================] - ETA: 0s - loss: 2.3735 - accuracy: 0.4820\n",
            "Epoch 16: val_accuracy improved from 0.50919 to 0.58456, saving model to vgg16_diabetes.h5\n",
            "68/68 [==============================] - 434s 6s/step - loss: 2.3735 - accuracy: 0.4820 - val_loss: 1.0657 - val_accuracy: 0.5846\n",
            "Epoch 17/75\n",
            "68/68 [==============================] - ETA: 0s - loss: 2.3172 - accuracy: 0.5374\n",
            "Epoch 17: val_accuracy did not improve from 0.58456\n",
            "68/68 [==============================] - 426s 6s/step - loss: 2.3172 - accuracy: 0.5374 - val_loss: 1.1573 - val_accuracy: 0.4835\n",
            "Epoch 18/75\n",
            "68/68 [==============================] - ETA: 0s - loss: 2.3078 - accuracy: 0.5263\n",
            "Epoch 18: val_accuracy did not improve from 0.58456\n",
            "68/68 [==============================] - 426s 6s/step - loss: 2.3078 - accuracy: 0.5263 - val_loss: 1.0497 - val_accuracy: 0.5147\n",
            "Epoch 19/75\n",
            "68/68 [==============================] - ETA: 0s - loss: 2.2841 - accuracy: 0.5291\n",
            "Epoch 19: val_accuracy did not improve from 0.58456\n",
            "68/68 [==============================] - 427s 6s/step - loss: 2.2841 - accuracy: 0.5291 - val_loss: 1.1480 - val_accuracy: 0.4265\n",
            "Epoch 20/75\n",
            "68/68 [==============================] - ETA: 0s - loss: 82.7658 - accuracy: 0.3727\n",
            "Epoch 20: val_accuracy did not improve from 0.58456\n",
            "68/68 [==============================] - 426s 6s/step - loss: 82.7658 - accuracy: 0.3727 - val_loss: 261.2196 - val_accuracy: 0.1048\n",
            "Epoch 21/75\n",
            "68/68 [==============================] - ETA: 0s - loss: 214.8912 - accuracy: 0.2108\n",
            "Epoch 21: val_accuracy did not improve from 0.58456\n",
            "68/68 [==============================] - 427s 6s/step - loss: 214.8912 - accuracy: 0.2108 - val_loss: 33.7162 - val_accuracy: 0.2500\n",
            "Epoch 22/75\n",
            "68/68 [==============================] - ETA: 0s - loss: 4.6071 - accuracy: 0.3598\n",
            "Epoch 22: val_accuracy did not improve from 0.58456\n",
            "68/68 [==============================] - 428s 6s/step - loss: 4.6071 - accuracy: 0.3598 - val_loss: 1.2576 - val_accuracy: 0.4540\n",
            "Epoch 23/75\n",
            "68/68 [==============================] - ETA: 0s - loss: 2.4152 - accuracy: 0.4954\n",
            "Epoch 23: val_accuracy did not improve from 0.58456\n",
            "68/68 [==============================] - 428s 6s/step - loss: 2.4152 - accuracy: 0.4954 - val_loss: 1.1587 - val_accuracy: 0.4688\n",
            "Epoch 24/75\n",
            "68/68 [==============================] - ETA: 0s - loss: 2.2713 - accuracy: 0.5314\n",
            "Epoch 24: val_accuracy did not improve from 0.58456\n",
            "68/68 [==============================] - 427s 6s/step - loss: 2.2713 - accuracy: 0.5314 - val_loss: 1.0757 - val_accuracy: 0.5643\n",
            "Epoch 25/75\n",
            "68/68 [==============================] - ETA: 0s - loss: 2.1942 - accuracy: 0.5498\n",
            "Epoch 25: val_accuracy did not improve from 0.58456\n",
            "68/68 [==============================] - 429s 6s/step - loss: 2.1942 - accuracy: 0.5498 - val_loss: 1.0579 - val_accuracy: 0.5460\n",
            "Epoch 26/75\n",
            "68/68 [==============================] - ETA: 0s - loss: 2.1021 - accuracy: 0.5355\n",
            "Epoch 26: val_accuracy did not improve from 0.58456\n",
            "68/68 [==============================] - 428s 6s/step - loss: 2.1021 - accuracy: 0.5355 - val_loss: 1.1900 - val_accuracy: 0.4798\n",
            "Epoch 27/75\n",
            "68/68 [==============================] - ETA: 0s - loss: 2.0093 - accuracy: 0.5715\n",
            "Epoch 27: val_accuracy did not improve from 0.58456\n",
            "68/68 [==============================] - 428s 6s/step - loss: 2.0093 - accuracy: 0.5715 - val_loss: 1.0105 - val_accuracy: 0.5239\n",
            "Epoch 28/75\n",
            "68/68 [==============================] - ETA: 0s - loss: 1.9472 - accuracy: 0.5623\n",
            "Epoch 28: val_accuracy improved from 0.58456 to 0.66544, saving model to vgg16_diabetes.h5\n",
            "68/68 [==============================] - 438s 6s/step - loss: 1.9472 - accuracy: 0.5623 - val_loss: 0.9143 - val_accuracy: 0.6654\n",
            "Epoch 29/75\n",
            "68/68 [==============================] - ETA: 0s - loss: 1.8960 - accuracy: 0.5964\n",
            "Epoch 29: val_accuracy did not improve from 0.66544\n",
            "68/68 [==============================] - 427s 6s/step - loss: 1.8960 - accuracy: 0.5964 - val_loss: 0.8996 - val_accuracy: 0.6654\n",
            "Epoch 30/75\n",
            "68/68 [==============================] - ETA: 0s - loss: 1.9144 - accuracy: 0.6024\n",
            "Epoch 30: val_accuracy did not improve from 0.66544\n",
            "68/68 [==============================] - 428s 6s/step - loss: 1.9144 - accuracy: 0.6024 - val_loss: 0.9844 - val_accuracy: 0.5699\n"
          ]
        },
        {
          "name": "stdout",
          "output_type": "stream",
          "text": [
            "Epoch 31/75\n",
            "68/68 [==============================] - ETA: 0s - loss: 1.8503 - accuracy: 0.6204\n",
            "Epoch 31: val_accuracy did not improve from 0.66544\n",
            "68/68 [==============================] - 426s 6s/step - loss: 1.8503 - accuracy: 0.6204 - val_loss: 0.9456 - val_accuracy: 0.6158\n",
            "Epoch 32/75\n",
            "68/68 [==============================] - ETA: 0s - loss: 1.8487 - accuracy: 0.6268\n",
            "Epoch 32: val_accuracy did not improve from 0.66544\n",
            "68/68 [==============================] - 427s 6s/step - loss: 1.8487 - accuracy: 0.6268 - val_loss: 1.0119 - val_accuracy: 0.5662\n",
            "Epoch 33/75\n",
            "68/68 [==============================] - ETA: 0s - loss: 1.8043 - accuracy: 0.6268\n",
            "Epoch 33: val_accuracy did not improve from 0.66544\n",
            "68/68 [==============================] - 427s 6s/step - loss: 1.8043 - accuracy: 0.6268 - val_loss: 0.9163 - val_accuracy: 0.6268\n",
            "Epoch 34/75\n",
            "68/68 [==============================] - ETA: 0s - loss: 1.8151 - accuracy: 0.6158\n",
            "Epoch 34: val_accuracy did not improve from 0.66544\n",
            "68/68 [==============================] - 428s 6s/step - loss: 1.8151 - accuracy: 0.6158 - val_loss: 0.9225 - val_accuracy: 0.6305\n",
            "Epoch 35/75\n",
            "68/68 [==============================] - ETA: 0s - loss: 1.7668 - accuracy: 0.6485\n",
            "Epoch 35: val_accuracy did not improve from 0.66544\n",
            "68/68 [==============================] - 429s 6s/step - loss: 1.7668 - accuracy: 0.6485 - val_loss: 0.8882 - val_accuracy: 0.6654\n",
            "Epoch 36/75\n",
            "68/68 [==============================] - ETA: 0s - loss: 1.7246 - accuracy: 0.6536\n",
            "Epoch 36: val_accuracy did not improve from 0.66544\n",
            "68/68 [==============================] - 429s 6s/step - loss: 1.7246 - accuracy: 0.6536 - val_loss: 1.0456 - val_accuracy: 0.6029\n",
            "Epoch 37/75\n",
            "68/68 [==============================] - ETA: 0s - loss: 1.6756 - accuracy: 0.6628\n",
            "Epoch 37: val_accuracy did not improve from 0.66544\n",
            "68/68 [==============================] - 428s 6s/step - loss: 1.6756 - accuracy: 0.6628 - val_loss: 0.9734 - val_accuracy: 0.6011\n",
            "Epoch 38/75\n",
            "68/68 [==============================] - ETA: 0s - loss: 1.7681 - accuracy: 0.6481\n",
            "Epoch 38: val_accuracy did not improve from 0.66544\n",
            "68/68 [==============================] - 431s 6s/step - loss: 1.7681 - accuracy: 0.6481 - val_loss: 0.9906 - val_accuracy: 0.5570\n",
            "Epoch 39/75\n",
            "68/68 [==============================] - ETA: 0s - loss: 1.6240 - accuracy: 0.6596\n",
            "Epoch 39: val_accuracy did not improve from 0.66544\n",
            "68/68 [==============================] - 427s 6s/step - loss: 1.6240 - accuracy: 0.6596 - val_loss: 0.9768 - val_accuracy: 0.6048\n",
            "Epoch 40/75\n",
            "68/68 [==============================] - ETA: 0s - loss: 1.6349 - accuracy: 0.6642\n",
            "Epoch 40: val_accuracy did not improve from 0.66544\n",
            "68/68 [==============================] - 428s 6s/step - loss: 1.6349 - accuracy: 0.6642 - val_loss: 0.9681 - val_accuracy: 0.6489\n",
            "Epoch 41/75\n",
            "68/68 [==============================] - ETA: 0s - loss: 1.5149 - accuracy: 0.7020\n",
            "Epoch 41: val_accuracy did not improve from 0.66544\n",
            "68/68 [==============================] - 429s 6s/step - loss: 1.5149 - accuracy: 0.7020 - val_loss: 0.9150 - val_accuracy: 0.6085\n",
            "Epoch 42/75\n",
            "68/68 [==============================] - ETA: 0s - loss: 1.4724 - accuracy: 0.7043\n",
            "Epoch 42: val_accuracy did not improve from 0.66544\n",
            "68/68 [==============================] - 429s 6s/step - loss: 1.4724 - accuracy: 0.7043 - val_loss: 0.9825 - val_accuracy: 0.6287\n",
            "Epoch 43/75\n",
            "68/68 [==============================] - ETA: 0s - loss: 1.4100 - accuracy: 0.7113\n",
            "Epoch 43: val_accuracy did not improve from 0.66544\n",
            "68/68 [==============================] - 428s 6s/step - loss: 1.4100 - accuracy: 0.7113 - val_loss: 1.0786 - val_accuracy: 0.5827\n",
            "Epoch 44/75\n",
            "68/68 [==============================] - ETA: 0s - loss: 1.4275 - accuracy: 0.7126\n",
            "Epoch 44: val_accuracy did not improve from 0.66544\n",
            "68/68 [==============================] - 427s 6s/step - loss: 1.4275 - accuracy: 0.7126 - val_loss: 0.9078 - val_accuracy: 0.6581\n",
            "Epoch 45/75\n",
            "68/68 [==============================] - ETA: 0s - loss: 1.3860 - accuracy: 0.7117\n",
            "Epoch 45: val_accuracy did not improve from 0.66544\n",
            "68/68 [==============================] - 428s 6s/step - loss: 1.3860 - accuracy: 0.7117 - val_loss: 1.0877 - val_accuracy: 0.6085\n",
            "Epoch 46/75\n",
            "68/68 [==============================] - ETA: 0s - loss: 1.2658 - accuracy: 0.7394\n",
            "Epoch 46: val_accuracy did not improve from 0.66544\n",
            "68/68 [==============================] - 428s 6s/step - loss: 1.2658 - accuracy: 0.7394 - val_loss: 1.1421 - val_accuracy: 0.6011\n",
            "Epoch 47/75\n",
            "68/68 [==============================] - ETA: 0s - loss: 1.2370 - accuracy: 0.7454\n",
            "Epoch 47: val_accuracy did not improve from 0.66544\n",
            "68/68 [==============================] - 429s 6s/step - loss: 1.2370 - accuracy: 0.7454 - val_loss: 1.1083 - val_accuracy: 0.5570\n",
            "Epoch 48/75\n",
            "68/68 [==============================] - ETA: 0s - loss: 1.2093 - accuracy: 0.7583\n",
            "Epoch 48: val_accuracy did not improve from 0.66544\n",
            "68/68 [==============================] - 429s 6s/step - loss: 1.2093 - accuracy: 0.7583 - val_loss: 1.2308 - val_accuracy: 0.5790\n",
            "Epoch 48: early stopping\n",
            "Total Time Elapsed:  342  minutes  45  seconds\n"
          ]
        }
      ],
      "source": [
        "start=timer()\n",
        "hist = model.fit(traindata, steps_per_epoch=traindata.samples//traindata.batch_size, validation_data=testdata,\n",
        "                 class_weight=class_weights, validation_steps=testdata.samples//testdata.batch_size,\n",
        "                 epochs=75,callbacks=[checkpoint,early])\n",
        "end = timer()\n",
        "elapsed = end - start\n",
        "print('Total Time Elapsed: ', int(elapsed//60), ' minutes ', (round(elapsed%60)), ' seconds')"
      ]
    },
    {
      "cell_type": "code",
      "execution_count": null,
      "metadata": {
        "colab": {
          "base_uri": "https://localhost:8080/",
          "height": 887
        },
        "id": "HeE6P5HOUrhl",
        "outputId": "590c883e-2cf6-461a-9403-107a6681ff4b"
      },
      "outputs": [
        {
          "data": {
            "image/png": "[encoded data removed]",
            "text/plain": [
              "<Figure size 640x480 with 1 Axes>"
            ]
          },
          "metadata": {},
          "output_type": "display_data"
        },
        {
          "data": {
            "image/png": "[encoded data removed]",
            "text/plain": [
              "<Figure size 640x480 with 1 Axes>"
            ]
          },
          "metadata": {},
          "output_type": "display_data"
        }
      ],
      "source": [
        "plt.plot(hist.history['loss'], label='train')\n",
        "plt.plot(hist.history['val_loss'], label='val')\n",
        "plt.title('VGG16: Loss and Validation Loss (0.0001 = Adam LR)')\n",
        "plt.legend();\n",
        "plt.show()\n",
        "\n",
        "plt.plot(hist.history['accuracy'], label='train')\n",
        "plt.plot(hist.history['val_accuracy'], label='val')\n",
        "plt.title('VGG16: Accuracy and Validation Accuracy (0.0001 = Adam LR)')\n",
        "plt.legend();\n",
        "plt.show()"
      ]
    }
  ],
  "metadata": {
    "colab": {
      "provenance": []
    },
    "kernelspec": {
      "display_name": "Python 3 (ipykernel)",
      "language": "python",
      "name": "python3"
    },
    "language_info": {
      "codemirror_mode": {
        "name": "ipython",
        "version": 3
      },
      "file_extension": ".py",
      "mimetype": "text/x-python",
      "name": "python",
      "nbconvert_exporter": "python",
      "pygments_lexer": "ipython3",
      "version": "3.11.5"
    }
  },
  "nbformat": 4,
  "nbformat_minor": 0
}